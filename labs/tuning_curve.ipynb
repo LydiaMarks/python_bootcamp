{
 "cells": [
  {
   "cell_type": "markdown",
   "id": "144750f7",
   "metadata": {
    "id": "144750f7"
   },
   "source": [
    "<div style=\"background: #F0FAFF; border-radius: 3px; padding: 10px;\">\n",
    "<h1> This notebook walks us through how to compute a tuning curve  </h1>\n",
    "    \n",
    "A tuning curve summarizes a neuron's response to stimulus categories. Here we will look at the responses of a neuron to the 'Drifting Gratings' stimulus.\n",
    "\n",
    "The Drifting Gratings stimulus consists of a sinusoidal grating that moves in 8 directions and at 5 temporal frequencies. Each stimulus condition (direction + temporal frequency combination) is repeated 15 times in random order. In addition, there are blanksweeps (when the grating is replaced with mean luminance gray) interleaved among the trials.\n",
    "\n",
    "We will compute the mean response of a neuron to each of these stimulus conditions.\n",
    "\n",
    "The data we will use are from the Allen Brain Observatory.  We have taken some data for a specific cell and saved it in the directory `data`.  We will not discuss general mechanisms of accessing Brain Observatory data here.  (For future reference, we will look at responses from the cell with `cell_id` 541513979.)\n",
    "</div>"
   ]
  },
  {
   "cell_type": "code",
   "execution_count": null,
   "id": "eb0dbd6b",
   "metadata": {
    "id": "eb0dbd6b"
   },
   "outputs": [],
   "source": [
    "import numpy as np\n",
    "import pandas as pd\n",
    "import matplotlib.pyplot as plt\n",
    "%matplotlib inline"
   ]
  },
  {
   "cell_type": "markdown",
   "id": "be266777-4008-4330-ba18-2ed92a3737cd",
   "metadata": {},
   "source": [
    "<div style=\"background: #F0FAFF; border-radius: 3px; padding: 10px;\">\n",
    "In order to compute the tuning curve of the neuron, we need\n",
    "<li>the activity of the neuron.  We will use the DF/F trace\n",
    "<li>stimulus information for the drifting grating stimulus\n",
    " \n",
    "We have stored the activity information in the arrays loaded with the following commands.\n",
    "\n",
    "`dff_trace` contains the activity.  The index for this array is the acquisition frame number of the calcium recording.  Each acquisition frame corresonds to the clock time given in the `timestamps` array.  \n",
    "\n",
    "</div>"
   ]
  },
  {
   "cell_type": "code",
   "execution_count": null,
   "id": "d0c10f35-24d1-4b64-b4d1-96e3f0173063",
   "metadata": {},
   "outputs": [],
   "source": [
    "timestamps = np.load('data/timestamps.npy')\n",
    "dff_trace = np.load('data/dff_trace.npy')"
   ]
  },
  {
   "cell_type": "markdown",
   "id": "DhtUCMG_3xlt",
   "metadata": {
    "id": "DhtUCMG_3xlt"
   },
   "source": [
    "<div style=\"background: #F0FAFF; border-radius: 3px; padding: 10px;\">\n",
    "It is always good to look at the data objects you're working with to make sure you understand what they are. What is the shape of the dff_trace array?"
   ]
  },
  {
   "cell_type": "code",
   "execution_count": null,
   "id": "EyY8csgk34JR",
   "metadata": {
    "colab": {
     "base_uri": "https://localhost:8080/"
    },
    "id": "EyY8csgk34JR",
    "outputId": "6a6d4a13-ad58-4e60-d7d0-1ac9e764b2e5"
   },
   "outputs": [],
   "source": [
    "print(dff_trace.shape)\n",
    "print(timestamps.shape)"
   ]
  },
  {
   "cell_type": "markdown",
   "id": "ccee15ba",
   "metadata": {
    "id": "ccee15ba"
   },
   "source": [
    "<div style=\"background: #F0FAFF; border-radius: 3px; padding: 10px;\">\n",
    "Let's plot the DF/F trace of our neuron to see what it looks like"
   ]
  },
  {
   "cell_type": "code",
   "execution_count": null,
   "id": "db6e4ac0",
   "metadata": {
    "colab": {
     "base_uri": "https://localhost:8080/",
     "height": 488
    },
    "id": "db6e4ac0",
    "outputId": "65d7b83b-a4c3-457d-a456-a3b5d6d5620e"
   },
   "outputs": [],
   "source": [
    "fig, ax = plt.subplots(figsize=(14,5))\n",
    "ax.plot(timestamps, dff_trace)\n",
    "ax.set_xlabel(\"Time (s)\", fontsize=16)\n",
    "ax.set_ylabel(\"DF/F\", fontsize=16)"
   ]
  },
  {
   "cell_type": "markdown",
   "id": "a7d2dfb5-ef2f-4dbd-b616-89604899deec",
   "metadata": {},
   "source": [
    "<div style=\"background: #F0FAFF; border-radius: 3px; padding: 10px;\">\n",
    "These are just the responses over the course of the experiment.  Let's look at what stimuli were used and when they were displayed."
   ]
  },
  {
   "cell_type": "code",
   "execution_count": null,
   "id": "d1328a9f-c543-4a12-bf99-64d4b8cc4049",
   "metadata": {},
   "outputs": [],
   "source": [
    "stimulus = np.load('data/stimulus.npy', allow_pickle=True)\n",
    "epoch_frames = np.load('data/epoch_frames.npy')"
   ]
  },
  {
   "cell_type": "code",
   "execution_count": null,
   "id": "5a423555-0a52-45da-8898-829dd98fb677",
   "metadata": {},
   "outputs": [],
   "source": [
    "stimulus"
   ]
  },
  {
   "cell_type": "markdown",
   "id": "12ee7730-4287-4a90-aa19-3a1f818632d3",
   "metadata": {},
   "source": [
    "<div style=\"background: #F0FAFF; border-radius: 3px; padding: 10px;\">\n",
    "The `epoch_frames` array contains the acquisition frames at which each stimulus type starts and ends.  The first column is the start, the second column is the end."
   ]
  },
  {
   "cell_type": "code",
   "execution_count": null,
   "id": "db0f2409-4881-4a4f-92b3-91083f65b1f9",
   "metadata": {},
   "outputs": [],
   "source": [
    "print(epoch_frames)"
   ]
  },
  {
   "cell_type": "markdown",
   "id": "26296289-bf38-4d03-8cab-43fdb2db19c9",
   "metadata": {},
   "source": [
    "<div style=\"background: #F0FAFF; border-radius: 3px; padding: 10px;\">\n",
    "Let's see how these correspond to each other.  We'll make use of the `enumerate` function."
   ]
  },
  {
   "cell_type": "code",
   "execution_count": null,
   "id": "1a881bca-28cb-4e9a-9016-b9ac109c5570",
   "metadata": {},
   "outputs": [],
   "source": [
    "for i, stim_name in enumerate(stimulus):\n",
    "    print(i, ':  ', stim_name)"
   ]
  },
  {
   "cell_type": "code",
   "execution_count": null,
   "id": "e251dba1-24bb-4a76-893e-94e5f090268c",
   "metadata": {},
   "outputs": [],
   "source": [
    "for i, stim_name in enumerate(stimulus):\n",
    "    print(stim_name, ':\\t', epoch_frames[i][0], ', ', epoch_frames[i][1])"
   ]
  },
  {
   "cell_type": "code",
   "execution_count": null,
   "id": "bff53aaa-1f97-4914-87c9-653029b0d9da",
   "metadata": {},
   "outputs": [],
   "source": [
    "fig, ax = plt.subplots(figsize=(14,5))\n",
    "ax.plot(timestamps, dff_trace)\n",
    "ax.set_xlabel(\"Time (s)\", fontsize=16)\n",
    "ax.set_ylabel(\"DFF\", fontsize=16)\n",
    "\n",
    "start, end = epoch_frames[0]\n",
    "\n",
    "ax.axvspan(timestamps[start], timestamps[end], color='red',alpha=0.3)"
   ]
  },
  {
   "cell_type": "markdown",
   "id": "9fcdf056-a40e-4949-aa91-1e069f78529c",
   "metadata": {},
   "source": [
    "<div style=\"background: #F0FAFF; border-radius: 3px; padding: 10px;\">\n",
    "Let's define a dictionary to map color values to stimulus names.  We'll use this in the exercise below."
   ]
  },
  {
   "cell_type": "code",
   "execution_count": null,
   "id": "ba0aba1d-aeb7-4d30-8566-379b83a3d191",
   "metadata": {},
   "outputs": [],
   "source": [
    "color_dict = {'drifting_gratings':  'red',\n",
    "              'natural_movie_three': 'blue',\n",
    "              'natural_movie_one': 'purple',\n",
    "              'spontaneous': 'grey'}"
   ]
  },
  {
   "cell_type": "markdown",
   "id": "44f70d37-c9b2-42dd-9154-7c3b56240a06",
   "metadata": {},
   "source": [
    "**Exercise 1**:  Plot the DF/F trace of this neuron.  Shade the regions that correspond to each stimulus type shown using the colors defined in `color_dict` above.  (Hint:  Use the method `axvspan`, which can be called with either `plt.axvspan` or `ax.axvspan`.  Also, be aware that we are plotting versus the *timestamp*, not the acquisition frame.)"
   ]
  },
  {
   "cell_type": "code",
   "execution_count": null,
   "id": "d69af70b-adff-4286-8d49-2fe870cdc650",
   "metadata": {},
   "outputs": [],
   "source": []
  },
  {
   "cell_type": "markdown",
   "id": "ff547e66",
   "metadata": {
    "id": "ff547e66"
   },
   "source": [
    "<div style=\"background: #F0FAFF; border-radius: 3px; padding: 10px;\">\n",
    "It appears that this cell responds quite well to the drifting gratings stimulus.  We've stored the information for how the drifting gratings were displayed in the arrays below.  Each presentation is called a \"trial\".  For each trial, there is an direction and a temporal frequency for the grating.  Some trials correspond to blank sweeps when nothing is on the screen.  The `frames` array contains the start and end times for the display of that trial, similarly to the `epoch_frames` array."
   ]
  },
  {
   "cell_type": "code",
   "execution_count": null,
   "id": "4fa6e48a-deb9-4117-b397-dfe518cfc715",
   "metadata": {},
   "outputs": [],
   "source": [
    "temporal_frequency = np.load('data/temporal_frequency.npy')\n",
    "direction = np.load('data/direction.npy')\n",
    "blank_sweep = np.load('data/blank_sweep.npy')\n",
    "frames = np.load('data/frames.npy')"
   ]
  },
  {
   "cell_type": "markdown",
   "id": "916128fe-fbe4-4a75-8e33-111a7eff9dab",
   "metadata": {},
   "source": [
    "<div style=\"background: #F0FAFF; border-radius: 3px; padding: 10px;\">\n",
    "Let's look at the direction array."
   ]
  },
  {
   "cell_type": "code",
   "execution_count": null,
   "id": "efa7fca7",
   "metadata": {
    "colab": {
     "base_uri": "https://localhost:8080/",
     "height": 363
    },
    "id": "efa7fca7",
    "outputId": "c3ae1b1d-ac08-49f5-bbf4-37074b18a497",
    "scrolled": true
   },
   "outputs": [],
   "source": [
    "direction"
   ]
  },
  {
   "cell_type": "markdown",
   "id": "2f3174bc",
   "metadata": {
    "id": "2f3174bc"
   },
   "source": [
    "<div style=\"background: #F0FAFF; border-radius: 3px; padding: 10px;\">\n",
    "How many unique temporal frequencies and directions are there in this stimulus? Let's print the unique values for each of these parameters."
   ]
  },
  {
   "cell_type": "code",
   "execution_count": null,
   "id": "810b4e61-e6fe-42bd-a06a-60b2ce5c6a01",
   "metadata": {},
   "outputs": [],
   "source": [
    "np.unique(direction)"
   ]
  },
  {
   "cell_type": "code",
   "execution_count": null,
   "id": "1867089d-fcf3-41da-a27b-5fdc4bf78805",
   "metadata": {},
   "outputs": [],
   "source": [
    "np.unique(temporal_frequency)"
   ]
  },
  {
   "cell_type": "code",
   "execution_count": null,
   "id": "1113f7a5-e48b-44cf-a002-bf5f113dd5ce",
   "metadata": {},
   "outputs": [],
   "source": [
    "frames"
   ]
  },
  {
   "cell_type": "markdown",
   "id": "6f13adbc",
   "metadata": {
    "id": "6f13adbc"
   },
   "source": [
    "<div style=\"background: #F0FAFF; border-radius: 3px; padding: 10px;\">\n",
    "    To look at the cell's response to a given grating presentation, let's plot the DF/F of the cell during the presentation of that grating.  We want to pad the plot with ~ 1 second of the DF/F trace preceding the grating presentation and ~1 after.  1 second = 30 frames.  We'll plot the response to the first grating presentation."
   ]
  },
  {
   "cell_type": "code",
   "execution_count": null,
   "id": "b1e0c570",
   "metadata": {
    "colab": {
     "base_uri": "https://localhost:8080/",
     "height": 466
    },
    "id": "b1e0c570",
    "outputId": "8fc31ed1-6543-4b56-bd4e-15ad1190db8f"
   },
   "outputs": [],
   "source": [
    "start, end = frames[0]\n",
    "\n",
    "fig, ax = plt.subplots()\n",
    "ax.plot(dff_trace[start-30:end+30])\n",
    "ax.axvspan(30,30+end-start, color='gray', alpha=0.3) #this shades the period when the stimulus is being presented\n",
    "ax.set_ylabel(\"DF/F\")\n",
    "ax.set_xlabel(\"Frames\")"
   ]
  },
  {
   "cell_type": "markdown",
   "id": "8d649610",
   "metadata": {
    "id": "8d649610"
   },
   "source": [
    "<div style=\"background: #F0FAFF; border-radius: 3px; padding: 10px;\">\n",
    "    We want to quantify this response. There are different methods of quantifying this that you can explore:\n",
    "<li> mean DF/F during the grating presentation\n",
    "<li> sum of the DF/F during the grating presentation (are these different?)\n",
    "<li> maximum DF/F during grating</li>\n",
    "<div style=\"background: #F0FAFF; border-radius: 3px; padding: 10px;\">\n",
    "Do you have other ideas for how to quantify this response? \n",
    "    \n",
    "   "
   ]
  },
  {
   "cell_type": "markdown",
   "id": "qY1cuB5G15N_",
   "metadata": {
    "id": "qY1cuB5G15N_"
   },
   "source": [
    "<div style=\"background: #F0FAFF; border-radius: 3px; padding: 10px;\">\n",
    "   For now let's use the mean DF/F during the presentation of the grating.  "
   ]
  },
  {
   "cell_type": "code",
   "execution_count": null,
   "id": "a46ca4f6",
   "metadata": {
    "colab": {
     "base_uri": "https://localhost:8080/"
    },
    "id": "a46ca4f6",
    "outputId": "24e7b7b4-e2d7-491e-d68b-42760f09058f"
   },
   "outputs": [],
   "source": [
    "dff_trace[start:end].mean()"
   ]
  },
  {
   "cell_type": "markdown",
   "id": "daaca880",
   "metadata": {
    "id": "daaca880"
   },
   "source": [
    "**Exercise 2:** Repeat this for the next grating stimulus: plot the next trial and calculate the mean DF/F."
   ]
  },
  {
   "cell_type": "code",
   "execution_count": null,
   "id": "BaOKTBt66Akc",
   "metadata": {
    "colab": {
     "base_uri": "https://localhost:8080/"
    },
    "id": "BaOKTBt66Akc",
    "outputId": "de656b79-3bef-44ef-e679-a351e05406a9"
   },
   "outputs": [],
   "source": []
  },
  {
   "cell_type": "markdown",
   "id": "dbd1cbac",
   "metadata": {
    "id": "dbd1cbac"
   },
   "source": [
    "<div style=\"background: #F0FAFF; border-radius: 3px; padding: 10px;\">\n",
    "Already we can see that some stimulus conditions elicit larger responses than others.  This is what we want to quantify and summarize in a <b>tuning curve</b>.\n",
    "<p>To do this, let's calculate the mean DF/F for each grating presentation in this stimulus. To start, let's create a numpy array to hold our calculated responses for all of the trials. We'll have three columns, one for the stimulus direction, one for the stimulus temporal frequency, and the last for the cell's response. Then we need to iterate over all stimulus trials, populate the direction and TF and then calculate the mean response.\n",
    "</div>"
   ]
  },
  {
   "cell_type": "markdown",
   "id": "42c5d2f8-cf3b-401b-bd8b-d8c034104a6d",
   "metadata": {},
   "source": [
    "**Exercise 3**:  Create a numpy array containing the direction, temporal_frequency, and mean response for each trial.  "
   ]
  },
  {
   "cell_type": "code",
   "execution_count": null,
   "id": "52ccbbfe",
   "metadata": {
    "id": "52ccbbfe"
   },
   "outputs": [],
   "source": [
    "num_trials = len(direction)\n",
    "\n",
    "cell_response= np.zeros((num_trials,3))\n",
    "\n",
    "for i in range(num_trials):\n",
    "    # fill in code here"
   ]
  },
  {
   "cell_type": "code",
   "execution_count": null,
   "id": "SBBf_3JwbA8V",
   "metadata": {
    "colab": {
     "base_uri": "https://localhost:8080/"
    },
    "id": "SBBf_3JwbA8V",
    "outputId": "e2f1ea51-9e60-44fe-cc15-4974823ee15f"
   },
   "outputs": [],
   "source": [
    "cell_response"
   ]
  },
  {
   "cell_type": "markdown",
   "id": "5de73b6c",
   "metadata": {
    "id": "5de73b6c"
   },
   "source": [
    "<div style=\"background: #F0FAFF; border-radius: 3px; padding: 10px;\">\n",
    "If we only care about one stimulus parameter, we can quickly compare the response to that parameter, say the direction. Here we will plot each grating response as a function of the grating direction"
   ]
  },
  {
   "cell_type": "markdown",
   "id": "e93fa480-56ad-4162-a23b-1daa202d2bff",
   "metadata": {},
   "source": [
    "**Exercise 4a**:  Plot the DF/F response for each trial against the direction for the drifting grating on that trial."
   ]
  },
  {
   "cell_type": "code",
   "execution_count": null,
   "id": "576f41b0",
   "metadata": {
    "colab": {
     "base_uri": "https://localhost:8080/",
     "height": 472
    },
    "id": "576f41b0",
    "outputId": "cdf76497-9813-4d3f-f6eb-0d4bf0244ebf"
   },
   "outputs": [],
   "source": []
  },
  {
   "cell_type": "markdown",
   "id": "cf583d68",
   "metadata": {
    "id": "cf583d68"
   },
   "source": [
    "<div style=\"background: #F0FAFF; border-radius: 3px; padding: 10px;\">\n",
    "What do we see?\n",
    "</div>"
   ]
  },
  {
   "cell_type": "markdown",
   "id": "a36af7b8",
   "metadata": {
    "id": "a36af7b8"
   },
   "source": [
    "**Exercise 4b:** Repeat this for the temporal frequency parameter"
   ]
  },
  {
   "cell_type": "code",
   "execution_count": null,
   "id": "kY_a_Js02rZO",
   "metadata": {
    "colab": {
     "base_uri": "https://localhost:8080/",
     "height": 472
    },
    "id": "kY_a_Js02rZO",
    "outputId": "ab9932d2-5468-458b-f466-28d8da364de8"
   },
   "outputs": [],
   "source": []
  },
  {
   "cell_type": "markdown",
   "id": "f6b68cd0",
   "metadata": {
    "id": "f6b68cd0"
   },
   "source": [
    "<div style=\"background: #F0FAFF; border-radius: 3px; padding: 10px;\">\n",
    "We want to quantify this more explicitly.  So let's average all of the responses to each direction together. This is the mean DF/F response to an direction, for all temporal frequencies, for all trials.  To do this, we need a way of selecting the trials that correspond to a given direction  For example, for direction=270:"
   ]
  },
  {
   "cell_type": "code",
   "execution_count": null,
   "id": "cfc59aeb-566c-4cfc-bdb9-6c7a9aeac51c",
   "metadata": {
    "scrolled": true
   },
   "outputs": [],
   "source": [
    "#Find the trials where the direction is 270\n",
    "trial_mask = cell_response[:,0]==270\n",
    "\n",
    "trial_mask"
   ]
  },
  {
   "cell_type": "code",
   "execution_count": null,
   "id": "e6aac533",
   "metadata": {
    "colab": {
     "base_uri": "https://localhost:8080/"
    },
    "id": "e6aac533",
    "outputId": "a7c5b333-352e-487e-aff0-1905af8752b0"
   },
   "outputs": [],
   "source": [
    "#the mean DF/F of just those trials together\n",
    "cell_response[trial_mask,2]"
   ]
  },
  {
   "cell_type": "code",
   "execution_count": null,
   "id": "4fdbc0d8-d242-4a72-ab4d-347af4b57e8a",
   "metadata": {},
   "outputs": [],
   "source": [
    "#Average the mean DF/F of just those trials together\n",
    "print(\"The mean response over all trials in response to stimuli with direction=270:\")\n",
    "cell_response[trial_mask,2].mean()"
   ]
  },
  {
   "cell_type": "markdown",
   "id": "ed79c148",
   "metadata": {
    "id": "ed79c148"
   },
   "source": [
    "<div style=\"background: #F0FAFF; border-radius: 3px; padding: 10px;\">\n",
    "Let's compute and plot the mean response as a function of direction (averaged across all temporal frequencies).   \n",
    "<p> To start, we need to know what all the possible direction values are. We need to identify the <b>unique</b> values that are not NaNs (e.g. values that are <b>finite</b>)"
   ]
  },
  {
   "cell_type": "code",
   "execution_count": null,
   "id": "07746a19",
   "metadata": {
    "colab": {
     "base_uri": "https://localhost:8080/"
    },
    "id": "07746a19",
    "outputId": "9f2205ff-66f2-478b-946c-938ca0d3a10c"
   },
   "outputs": [],
   "source": [
    "all_dir = np.unique(cell_response[:,0])\n",
    "print(all_dir)\n",
    "dirvals = all_dir[np.isfinite(all_dir)]\n",
    "print(dirvals)"
   ]
  },
  {
   "cell_type": "markdown",
   "id": "197ddb02",
   "metadata": {
    "id": "197ddb02"
   },
   "source": [
    "<div style=\"background: #F0FAFF; border-radius: 3px; padding: 10px;\">\n",
    "Now let's make an array with the average response of all trials for each of these directions.  We'll use `enumerate` again. "
   ]
  },
  {
   "cell_type": "markdown",
   "id": "7bc93284-03bf-459f-a6ae-08cf95338bf4",
   "metadata": {},
   "source": [
    "**Exercise 5a**:  Compute and plot the tuning curve as a function of direction (averaged over temporal frequencies).  \n",
    "\n",
    "Hint: start by creating an array with length equal to the number of directions, then use a for loop to compute the average response to each direction. "
   ]
  },
  {
   "cell_type": "code",
   "execution_count": null,
   "id": "b62ec4af",
   "metadata": {
    "id": "b62ec4af"
   },
   "outputs": [],
   "source": [
    "tuning = np.empty((8))\n",
    "\n",
    "for i, dirv in enumerate(dirvals):\n",
    "    # fill in code here"
   ]
  },
  {
   "cell_type": "markdown",
   "id": "uHJjHs2U3RCx",
   "metadata": {
    "id": "uHJjHs2U3RCx"
   },
   "source": [
    "<div style=\"background: #F0FAFF; border-radius: 3px; padding: 10px;\">\n",
    "Let's plot this tuning curve of mean response vs direction."
   ]
  },
  {
   "cell_type": "code",
   "execution_count": null,
   "id": "28a351c3",
   "metadata": {
    "colab": {
     "base_uri": "https://localhost:8080/",
     "height": 466
    },
    "id": "28a351c3",
    "outputId": "f6b11f20-7490-4a1c-f491-feb91928be2d"
   },
   "outputs": [],
   "source": []
  },
  {
   "cell_type": "markdown",
   "id": "34ce45f7",
   "metadata": {
    "id": "34ce45f7"
   },
   "source": [
    "**Exercise 5b:** Compute and plot the mean response as a function of temporal frequency (averaged across all directions)."
   ]
  },
  {
   "cell_type": "code",
   "execution_count": null,
   "id": "alZJ66yp3Y8N",
   "metadata": {
    "colab": {
     "base_uri": "https://localhost:8080/"
    },
    "id": "alZJ66yp3Y8N",
    "outputId": "f0106911-4866-42b5-854f-4e5c9fea0cbb"
   },
   "outputs": [],
   "source": []
  },
  {
   "cell_type": "markdown",
   "id": "88b555f8",
   "metadata": {
    "id": "88b555f8"
   },
   "source": [
    "<div style=\"background: #F0FAFF; border-radius: 3px; padding: 10px;\">\n",
    "Compare these curves with the plots we made above of all the trials. What do we see now?\n",
    "</div>"
   ]
  },
  {
   "cell_type": "markdown",
   "id": "4a5e2d6d",
   "metadata": {
    "id": "4a5e2d6d"
   },
   "source": [
    "**Exercise 6:** Add errorbars to the above tuning curves. They can be standard deviation or standard error or the mean. \n",
    "\n",
    "Make a new array for the tuning values with two columns - one for the mean response and one for the error you decide to use.  (Hint:  the standard deviation can be computed with a method call `std` in the same way you compute the mean with a method called `mean`.)\n",
    "    \n",
    "<p>(Hint: for plotting, <b>plt.errorbar</b> will be useful)."
   ]
  },
  {
   "cell_type": "code",
   "execution_count": null,
   "id": "WyUCSjTvfkPL",
   "metadata": {
    "id": "WyUCSjTvfkPL",
    "scrolled": true
   },
   "outputs": [],
   "source": [
    "? plt.errorbar"
   ]
  },
  {
   "cell_type": "code",
   "execution_count": null,
   "id": "74766069-09be-4a2e-aa52-7c42e8a43580",
   "metadata": {},
   "outputs": [],
   "source": [
    "tuning_dir = np.empty((8,2))\n",
    "for i, dirv in enumerate(dirvals):\n",
    "    # fill in code here"
   ]
  },
  {
   "cell_type": "code",
   "execution_count": null,
   "id": "UZuKGC9A3owR",
   "metadata": {
    "id": "UZuKGC9A3owR"
   },
   "outputs": [],
   "source": [
    "tuning_tf = np.empty((5,2))\n",
    "for i, tf in enumerate(tfvals):\n",
    "    # fill in code here"
   ]
  },
  {
   "cell_type": "markdown",
   "id": "88098e81",
   "metadata": {
    "id": "88098e81"
   },
   "source": [
    "**Exercise 7a:** Add a black line showing the mean response to the blank sweep.\n",
    "<br>(Hint 1: You can use the `blank_sweep` array to find the trials with a blank sweep.  Hint 2: <b>plt.axhline</b> is a useful function for adding a horizontal line)."
   ]
  },
  {
   "cell_type": "code",
   "execution_count": null,
   "id": "17ac35fd-ffb1-4e54-86d6-84fb1687ac30",
   "metadata": {},
   "outputs": [],
   "source": [
    "blank_response = "
   ]
  },
  {
   "cell_type": "markdown",
   "id": "5bf6f09c",
   "metadata": {
    "id": "5bf6f09c"
   },
   "source": [
    "Why is it important to add these two features?"
   ]
  },
  {
   "cell_type": "markdown",
   "id": "4236ce69",
   "metadata": {
    "id": "4236ce69"
   },
   "source": [
    "**Exercise 7b:** Add the errorbars and blank sweep response to the temporal frequency plot as well"
   ]
  },
  {
   "cell_type": "code",
   "execution_count": null,
   "id": "f1cfe281",
   "metadata": {
    "id": "f1cfe281"
   },
   "outputs": [],
   "source": []
  },
  {
   "cell_type": "markdown",
   "id": "fa6d753c",
   "metadata": {
    "id": "fa6d753c"
   },
   "source": [
    "<div style=\"background: #F0FAFF; border-radius: 3px; padding: 10px;\">\n",
    "So far we've looked at one stimulus dimension (e.g. direction) averaged across all conditions of the other (e.g. temporal frequency) - and vice versa. Now we want to look at these tuning curves for both dimensions.\n",
    "<p>To begin, let's compute the two-dimensional tuning array for this neuron - computing the mean response for every possible direction and temporal frequency combination.\n",
    "<p>What is the shape of the array we will be computing?"
   ]
  },
  {
   "cell_type": "code",
   "execution_count": null,
   "id": "5f8336fa",
   "metadata": {
    "id": "5f8336fa"
   },
   "outputs": [],
   "source": [
    "tuning_array = np.empty((8,5))\n",
    "\n",
    "\n",
    "for i,tf in enumerate(tfvals):\n",
    "    #select trials of each tf\n",
    "    tf_trials = cell_response[:,1]==tf\n",
    "    subset = cell_response[tf_trials]\n",
    "    for j,dirv in enumerate(dirvals):\n",
    "        #select trials of that tf and each direction\n",
    "        trials = subset[:,0]==dirv\n",
    "        tuning_array[j,i] = subset[trials,2].mean()"
   ]
  },
  {
   "cell_type": "markdown",
   "id": "0272de4f",
   "metadata": {
    "id": "0272de4f"
   },
   "source": [
    "<div style=\"background: #F0FAFF; border-radius: 3px; padding: 10px;\">\n",
    "Let's start by visualizing this similarly to how we did above: Plot the direction tuning curve for each temporal frequency value as a separate line:"
   ]
  },
  {
   "cell_type": "code",
   "execution_count": null,
   "id": "304f0d02",
   "metadata": {
    "colab": {
     "base_uri": "https://localhost:8080/",
     "height": 466
    },
    "id": "304f0d02",
    "outputId": "adb6ebac-5393-4854-9770-c60d9f164a35"
   },
   "outputs": [],
   "source": [
    "fig, ax = plt.subplots()\n",
    "\n",
    "for i, tf in enumerate(tfvals):\n",
    "    ax.plot(dirvals, tuning_array[:,i], 'o-', label=tf)\n",
    "ax.legend()\n",
    "ax.set_xlabel(\"Direction (deg)\")\n",
    "ax.set_ylabel(\"Mean DF/F\")"
   ]
  },
  {
   "cell_type": "markdown",
   "id": "f35b1172",
   "metadata": {
    "id": "f35b1172"
   },
   "source": [
    "\n",
    "**Exercise 9:** Plot each temporal frequency tuning curve for each direction as a separate line."
   ]
  },
  {
   "cell_type": "code",
   "execution_count": null,
   "id": "LQCOpSVO4P96",
   "metadata": {
    "colab": {
     "base_uri": "https://localhost:8080/",
     "height": 447
    },
    "id": "LQCOpSVO4P96",
    "outputId": "c648c857-7c5e-4bd5-c9ac-a394dd25a7ca"
   },
   "outputs": [],
   "source": []
  },
  {
   "cell_type": "markdown",
   "id": "a7cb6c07",
   "metadata": {
    "id": "a7cb6c07"
   },
   "source": [
    "<div style=\"background: #F0FAFF; border-radius: 3px; padding: 10px;\">\n",
    "What do we see here?\n",
    "<p>Another way to visualize two dimensional data is as a heatmap. Let's use <b>plt.imshow</b> to create this heatmap.</p>"
   ]
  },
  {
   "cell_type": "code",
   "execution_count": null,
   "id": "1623a804",
   "metadata": {
    "colab": {
     "base_uri": "https://localhost:8080/",
     "height": 449
    },
    "id": "1623a804",
    "outputId": "e717ad69-2aeb-45b8-f1f2-fe9117867536"
   },
   "outputs": [],
   "source": [
    "fig, ax = plt.subplots()\n",
    "\n",
    "im = ax.imshow(tuning_array)\n",
    "ax.set_xticks(range(5), tfvals)\n",
    "ax.set_yticks(range(8), dirvals)\n",
    "ax.set_xlabel(\"TF\")\n",
    "ax.set_ylabel(\"Direction\")\n",
    "cbar = plt.colorbar(im) #Add the colorbar so we know what the colors mean\n",
    "cbar.set_label(\"Mean DF/F\")"
   ]
  },
  {
   "cell_type": "markdown",
   "id": "a3c94cac",
   "metadata": {
    "id": "a3c94cac"
   },
   "source": [
    " <div style=\"background: #F0FAFF; border-radius: 3px; padding: 10px;\">\n",
    "<p>This visualization gives us a great view of how the two dimensions interact, but one disadvantage is that we can't add errorbars or even the blank sweep response to this. But we saw that that information can be important for interpreting what we see in the data.\n",
    "<p>One approach we can take is to compute the <b>z score</b> where each response is mean subtracted and normalized to the standard deviation. So it shows how far each response deviates from the mean response (rather than the blanksweep response as we plotted above in exercise 5)."
   ]
  },
  {
   "cell_type": "code",
   "execution_count": null,
   "id": "0bb48331",
   "metadata": {
    "id": "0bb48331"
   },
   "outputs": [],
   "source": [
    "tuning_array_z = (tuning_array - tuning_array.mean())/tuning_array.std()"
   ]
  },
  {
   "cell_type": "code",
   "execution_count": null,
   "id": "0d405f8a",
   "metadata": {
    "colab": {
     "base_uri": "https://localhost:8080/",
     "height": 469
    },
    "id": "0d405f8a",
    "outputId": "3220f450-60cf-48a4-bf5f-b049467f6f35"
   },
   "outputs": [],
   "source": [
    "fig, ax = plt.subplots()\n",
    "\n",
    "im = ax.imshow(tuning_array_z)\n",
    "cbar = plt.colorbar(im) #Add the colorbar so we know what the colors mean\n",
    "cbar.set_label(\"Z score (std dev)\")"
   ]
  }
 ],
 "metadata": {
  "colab": {
   "include_colab_link": true,
   "provenance": []
  },
  "kernelspec": {
   "display_name": "Python 3 (ipykernel)",
   "language": "python",
   "name": "python3"
  },
  "language_info": {
   "codemirror_mode": {
    "name": "ipython",
    "version": 3
   },
   "file_extension": ".py",
   "mimetype": "text/x-python",
   "name": "python",
   "nbconvert_exporter": "python",
   "pygments_lexer": "ipython3",
   "version": "3.9.19"
  }
 },
 "nbformat": 4,
 "nbformat_minor": 5
}
