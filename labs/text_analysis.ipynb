{
 "cells": [
  {
   "cell_type": "markdown",
   "id": "710d0bff-5f42-44cd-b19f-ea951b1dce1c",
   "metadata": {},
   "source": [
    "# Lab 1\n",
    "\n",
    "With your introduction to python, you learned about a few important concepts: \n",
    "* variables and objects\n",
    "* data types (like int, float and string)\n",
    "* expressions (like arithmetic and comparisons)\n",
    "* data structures (like list and dict)\n",
    "* flow control (loops and conditionals)\n",
    "\n",
    "Now we will use these to get some more practical experience with programming. The focus for this lab is to:\n",
    "* Think about how the pieces listed above can be combined to solve new problems\n",
    "* Think about breaking complex problems down into smaller pieces\n",
    "* Learn how to iteratively design, test, and modify code until it works\n",
    "* Learn to understand error messages and use debugging tools \n"
   ]
  },
  {
   "cell_type": "markdown",
   "id": "07036db9",
   "metadata": {},
   "source": [
    "## Exercise: analysis of text\n",
    "\n",
    "We will do text analysis of a public free text to demonstrate text analysis techniques.\n",
    "We will use [The Land That Time Forgot](https://www.gutenberg.org/ebooks/551) and download the [TXT version](https://www.gutenberg.org/ebooks/551.txt.utf-8).\n",
    "\n",
    "\n",
    "Take a look at the file and understand the spacing and formatting of the text.\n"
   ]
  },
  {
   "cell_type": "code",
   "execution_count": null,
   "id": "dac23ccd",
   "metadata": {},
   "outputs": [],
   "source": [
    "# download the text from Project Gutenberg and store it in a variable called `text`\n",
    "import urllib.request\n",
    "text = urllib.request.urlopen('https://www.gutenberg.org/ebooks/551.txt.utf-8').read().decode()"
   ]
  },
  {
   "cell_type": "code",
   "execution_count": null,
   "id": "69628df6",
   "metadata": {},
   "outputs": [],
   "source": [
    "print(f\"The text is {len(text)} characters long.\")"
   ]
  },
  {
   "cell_type": "code",
   "execution_count": null,
   "id": "fa385b6a",
   "metadata": {},
   "outputs": [],
   "source": [
    "print(\"The first 300 characters are:\")\n",
    "print(\"-----------------------------\")\n",
    "print(text[:300])"
   ]
  },
  {
   "cell_type": "markdown",
   "id": "e50932cc",
   "metadata": {},
   "source": [
    "## Let's do some analysis\n",
    "\n",
    "You now have a large chunk of data to play with. See if you can answer the following quesions / tasks.\n",
    "Every question will have many possible correct solutions, so be creative and experiment with different approaches.\n",
    "It may help to read through the entire list of questions, because anticipating later questions may help you choose a different approach to earlier questions.\n",
    "\n",
    "1) How many words are in the main text (excluding any header/footer text attached by Project Gutenberg)?\n",
    "2) Write code that extracts the title, author, and release date from the header. Imagine you are writing this code in the hopes that it could be reused for any book downloaded from Project Gutenberg.  Bonus: actually try it on another book or two.\n",
    "3) What is the average number of words in a chapter?\n",
    "4) What is the most frequently used word? What if you exclude typical stopwords (https://www.google.com/search?q=stopwords)?\n",
    "5) What is the word most likely to appear after \"if\"?\n",
    "6) If you knew all such paired-word probabilities, could you automaticaly generate a sentence that might seem at home in this book?\n",
    "\n",
    "For each problem, consider writing out (in comments) the list of steps you think your code should take.\n",
    "\n",
    "You may work on your own or in groups, ask questions, read documentation, search for clues online, etc. \n",
    "Any LLM will be able to solve these tasks for you; resist the urge to ask them! However, they are very useful for explaining concepts and error messages, evaluating your approach, etc. "
   ]
  },
  {
   "cell_type": "code",
   "execution_count": null,
   "id": "9ade1972",
   "metadata": {},
   "outputs": [],
   "source": [
    "# 1) How many words are in the main text (excluding any header/footer text attached by Project Gutenberg)?\n"
   ]
  },
  {
   "cell_type": "code",
   "execution_count": null,
   "id": "f0821464",
   "metadata": {},
   "outputs": [],
   "source": [
    "# 2) Write code that extracts the title, author, and release date from the header. \n",
    "#    Imagine you are writing this code in the hopes that it could be reused for any book downloaded from Project Gutenberg.\n"
   ]
  },
  {
   "cell_type": "code",
   "execution_count": null,
   "id": "164f10b4",
   "metadata": {},
   "outputs": [],
   "source": [
    "# 3) What is the average number of words in a chapter?\n"
   ]
  },
  {
   "cell_type": "code",
   "execution_count": null,
   "id": "3c8583c1",
   "metadata": {},
   "outputs": [],
   "source": [
    "# 4) What is the most frequently used word? What if you exclude typical stopwords (https://www.google.com/search?q=stopwords)?\n"
   ]
  },
  {
   "cell_type": "code",
   "execution_count": null,
   "id": "0ad4a4f8",
   "metadata": {},
   "outputs": [],
   "source": [
    "# 5) What is the word most likely to appear after the word \"if\"?\n"
   ]
  },
  {
   "cell_type": "code",
   "execution_count": null,
   "id": "1d66d39d",
   "metadata": {},
   "outputs": [],
   "source": [
    "# 6) Generate a sentence that might seem at home in this book, using any analysis of the text. \n",
    "#    For example, start with the most common first word of a sentence, then pick the word that appears \n",
    "#    most often after that word, and so on. (This is called a Markov chain) \n",
    "\n"
   ]
  }
 ],
 "metadata": {
  "kernelspec": {
   "display_name": "swdb",
   "language": "python",
   "name": "python3"
  },
  "language_info": {
   "codemirror_mode": {
    "name": "ipython",
    "version": 3
   },
   "file_extension": ".py",
   "mimetype": "text/x-python",
   "name": "python",
   "nbconvert_exporter": "python",
   "pygments_lexer": "ipython3",
   "version": "3.12.3"
  }
 },
 "nbformat": 4,
 "nbformat_minor": 5
}
